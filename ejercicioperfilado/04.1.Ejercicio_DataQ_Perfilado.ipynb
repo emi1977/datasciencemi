{
 "cells": [
  {
   "cell_type": "markdown",
   "metadata": {},
   "source": [
    "# Ejercicio Data Quality - Perfilado\n",
    "## Evaluar la calidad de datos de las ventas de productos"
   ]
  },
  {
   "cell_type": "markdown",
   "metadata": {},
   "source": [
    "Se quiere hacer una evaluación de calidad de datos sobre las ventas (sales) y pagos (payments). Para ello se requiere hacer un análisis de los siguientes puntos:\n",
    "- Calidad de los datos\n",
    "- Selección de clave principal\n",
    "- Identificación de cardinalidad\n",
    "- Obtener media, varianza y desviacion Estandar, covarianza, correlacion\n",
    "- Mejorar la calidad.\n",
    "\n",
    "**Referencia**: “Estadística Descriptiva con Python y Pandas”: https://coderhook.github.io/Descriptive%20Statistics\n",
    "\n",
    "- Columnas sales:, orderNumber, orderLineNumber, orderDate, shippedDate, requiredDate, customerNumber, employeeNumber, productCode, status, comments, quantityOrdered, priceEach, sales_amount, origin\n",
    "\n",
    "- Columnas payments:, customerNumber, checkNumber, paymentDate, amount"
   ]
  },
  {
   "cell_type": "code",
   "execution_count": 19,
   "metadata": {},
   "outputs": [],
   "source": [
    "import pandas as pd\n",
    "import numpy as np"
   ]
  },
  {
   "cell_type": "code",
   "execution_count": 20,
   "metadata": {},
   "outputs": [],
   "source": [
    "# Leer el archivo CSV desde la URL\n",
    "url = \"https://raw.githubusercontent.com/ricardoahumada/DataScienceBasics/refs/heads/main/data/company_sales/sales.csv\"\n",
    "sales_df = pd.read_csv(url)"
   ]
  },
  {
   "cell_type": "code",
   "execution_count": 21,
   "metadata": {},
   "outputs": [
    {
     "name": "stdout",
     "output_type": "stream",
     "text": [
      "Primeras filas del DataFrame:\n",
      "   orderNumber  orderLineNumber   orderDate shippedDate requiredDate  \\\n",
      "0        10100                1  0000-00-00  0000-00-00   0000-00-00   \n",
      "1        10100                2  0000-00-00  0000-00-00   0000-00-00   \n",
      "2        10100                3  0000-00-00  0000-00-00   0000-00-00   \n",
      "3        10100                4  0000-00-00  0000-00-00   0000-00-00   \n",
      "4        10101                1  0000-00-00  0000-00-00   0000-00-00   \n",
      "\n",
      "   customerNumber  employeeNumber productCode   status  \\\n",
      "0             363            1216    S24_3969  Shipped   \n",
      "1             363            1216    S18_2248  Shipped   \n",
      "2             363            1216    S18_1749  Shipped   \n",
      "3             363            1216    S18_4409  Shipped   \n",
      "4             128            1504    S18_2795  Shipped   \n",
      "\n",
      "                 comments  quantityOrdered  priceEach  sales_amount origin  \n",
      "0                     NaN               49      35.29       1729.21  spain  \n",
      "1                     NaN               50      55.09       2754.50  spain  \n",
      "2                     NaN               30     136.00       4080.00  spain  \n",
      "3                     NaN               22      75.46       1660.12  spain  \n",
      "4  Check on availability.               26     167.06       4343.56  spain  \n"
     ]
    }
   ],
   "source": [
    "# Mostrar las primeras filas del DataFrame para entender su estructura\n",
    "sales_df.columns = [\n",
    "    'orderNumber', 'orderLineNumber', 'orderDate', 'shippedDate', 'requiredDate', \n",
    "    'customerNumber', 'employeeNumber', 'productCode', 'status', 'comments', \n",
    "    'quantityOrdered', 'priceEach', 'sales_amount', 'origin'\n",
    "]\n",
    "print(\"Primeras filas del DataFrame:\")\n",
    "print(sales_df.head())"
   ]
  },
  {
   "cell_type": "code",
   "execution_count": 28,
   "metadata": {},
   "outputs": [
    {
     "data": {
      "text/plain": [
       "161     0000-00-00\n",
       "1864    0000-00-00\n",
       "1949    0000-00-00\n",
       "402     0000-00-00\n",
       "272     0000-00-00\n",
       "2500    0000-00-00\n",
       "2291    0000-00-00\n",
       "2274    0000-00-00\n",
       "1158    0000-00-00\n",
       "2518    0000-00-00\n",
       "1029    0000-00-00\n",
       "2028    0000-00-00\n",
       "1141    0000-00-00\n",
       "2529    0000-00-00\n",
       "2576    0000-00-00\n",
       "1868    0000-00-00\n",
       "1134    0000-00-00\n",
       "284     0000-00-00\n",
       "605     0000-00-00\n",
       "397     0000-00-00\n",
       "Name: orderDate, dtype: object"
      ]
     },
     "execution_count": 28,
     "metadata": {},
     "output_type": "execute_result"
    }
   ],
   "source": [
    "#se ve que la columna de fechas 'orderDate'\n",
    "#tiene valores nulos o erroneos. Podemos hacer un sample de 20 filas para asegurarnos\n",
    "sales_df['orderDate'].sample(20)"
   ]
  },
  {
   "cell_type": "code",
   "execution_count": 29,
   "metadata": {},
   "outputs": [
    {
     "data": {
      "text/plain": [
       "array(['0000-00-00', '2038-09-00'], dtype=object)"
      ]
     },
     "execution_count": 29,
     "metadata": {},
     "output_type": "execute_result"
    }
   ],
   "source": [
    "#verificar con un unique pra ver los valeres únicos\n",
    "sales_df['orderDate'].unique()\n",
    "#vemos que existe algún valor que es distinto de 0, pero pocos"
   ]
  },
  {
   "cell_type": "code",
   "execution_count": 31,
   "metadata": {},
   "outputs": [
    {
     "data": {
      "text/plain": [
       "0000-00-00    2998\n",
       "2038-09-00       3\n",
       "Name: orderDate, dtype: int64"
      ]
     },
     "execution_count": 31,
     "metadata": {},
     "output_type": "execute_result"
    }
   ],
   "source": [
    "#por lo que hacemos un value count\n",
    "sales_df['orderDate'].value_counts()\n",
    "#vemos que sólo hay tres valores significativos"
   ]
  },
  {
   "cell_type": "code",
   "execution_count": 22,
   "metadata": {},
   "outputs": [
    {
     "name": "stdout",
     "output_type": "stream",
     "text": [
      "\n",
      "Información general del DataFrame:\n",
      "<class 'pandas.core.frame.DataFrame'>\n",
      "RangeIndex: 3001 entries, 0 to 3000\n",
      "Data columns (total 14 columns):\n",
      " #   Column           Non-Null Count  Dtype  \n",
      "---  ------           --------------  -----  \n",
      " 0   orderNumber      3001 non-null   int64  \n",
      " 1   orderLineNumber  3001 non-null   int64  \n",
      " 2   orderDate        3001 non-null   object \n",
      " 3   shippedDate      2859 non-null   object \n",
      " 4   requiredDate     3001 non-null   object \n",
      " 5   customerNumber   3001 non-null   int64  \n",
      " 6   employeeNumber   3001 non-null   int64  \n",
      " 7   productCode      3001 non-null   object \n",
      " 8   status           3001 non-null   object \n",
      " 9   comments         759 non-null    object \n",
      " 10  quantityOrdered  3001 non-null   int64  \n",
      " 11  priceEach        3001 non-null   float64\n",
      " 12  sales_amount     3001 non-null   float64\n",
      " 13  origin           3001 non-null   object \n",
      "dtypes: float64(2), int64(5), object(7)\n",
      "memory usage: 328.4+ KB\n",
      "None\n"
     ]
    }
   ],
   "source": [
    "# Mostrar información general del DataFrame\n",
    "print(\"\\nInformación general del DataFrame:\")\n",
    "print(sales_df.info())"
   ]
  },
  {
   "cell_type": "code",
   "execution_count": 23,
   "metadata": {},
   "outputs": [
    {
     "name": "stdout",
     "output_type": "stream",
     "text": [
      "\n",
      "Estadísticas descriptivas del DataFrame:\n",
      "        orderNumber  orderLineNumber  customerNumber  employeeNumber  \\\n",
      "count   3001.000000      3001.000000     3001.000000     3001.000000   \n",
      "mean   10260.509164         6.424525      259.639120     1317.948684   \n",
      "std       92.619750         4.196870      118.403435      326.343575   \n",
      "min    10100.000000         1.000000      103.000000        0.000000   \n",
      "25%    10181.000000         3.000000      145.000000     1216.000000   \n",
      "50%    10263.000000         6.000000      240.000000     1370.000000   \n",
      "75%    10339.000000         9.000000      353.000000     1501.000000   \n",
      "max    10425.000000        18.000000      496.000000     1702.000000   \n",
      "\n",
      "       quantityOrdered    priceEach  sales_amount  \n",
      "count      3001.000000  3001.000000   3001.000000  \n",
      "mean         35.211929    90.765831   3204.908437  \n",
      "std           9.828957    36.579368   1631.356967  \n",
      "min           6.000000    26.550000    481.500000  \n",
      "25%          27.000000    62.000000   1988.700000  \n",
      "50%          35.000000    85.760000   2880.480000  \n",
      "75%          43.000000   114.650000   4093.600000  \n",
      "max          97.000000   214.300000  11503.140000  \n"
     ]
    }
   ],
   "source": [
    "# Mostrar estadísticas descriptivas del DataFrame\n",
    "print(\"\\nEstadísticas descriptivas del DataFrame:\")\n",
    "print(sales_df.describe())"
   ]
  },
  {
   "cell_type": "code",
   "execution_count": 24,
   "metadata": {},
   "outputs": [
    {
     "name": "stdout",
     "output_type": "stream",
     "text": [
      "\n",
      "Cantidad de valores nulos en cada columna:\n",
      "orderNumber           0\n",
      "orderLineNumber       0\n",
      "orderDate             0\n",
      "shippedDate         142\n",
      "requiredDate          0\n",
      "customerNumber        0\n",
      "employeeNumber        0\n",
      "productCode           0\n",
      "status                0\n",
      "comments           2242\n",
      "quantityOrdered       0\n",
      "priceEach             0\n",
      "sales_amount          0\n",
      "origin                0\n",
      "dtype: int64\n"
     ]
    }
   ],
   "source": [
    "# Verificar la cantidad de valores nulos en cada columna\n",
    "print(\"\\nCantidad de valores nulos en cada columna:\")\n",
    "print(sales_df.isnull().sum())"
   ]
  },
  {
   "cell_type": "code",
   "execution_count": 25,
   "metadata": {},
   "outputs": [
    {
     "name": "stdout",
     "output_type": "stream",
     "text": [
      "\n",
      "Cantidad de valores únicos en cada columna:\n",
      "orderNumber         326\n",
      "orderLineNumber      18\n",
      "orderDate             2\n",
      "shippedDate           3\n",
      "requiredDate          3\n",
      "customerNumber       98\n",
      "employeeNumber       15\n",
      "productCode         109\n",
      "status                6\n",
      "comments             37\n",
      "quantityOrdered      61\n",
      "priceEach          1573\n",
      "sales_amount       2885\n",
      "origin                2\n",
      "dtype: int64\n"
     ]
    }
   ],
   "source": [
    "# Verificar la cantidad de valores únicos en cada columna\n",
    "print(\"\\nCantidad de valores únicos en cada columna:\")\n",
    "print(sales_df.nunique())"
   ]
  },
  {
   "cell_type": "code",
   "execution_count": 26,
   "metadata": {},
   "outputs": [
    {
     "name": "stdout",
     "output_type": "stream",
     "text": [
      "\n",
      "Distribución de valores en columnas categóricas:\n",
      "\n",
      "Distribución de la columna 'orderDate':\n",
      "0000-00-00    2998\n",
      "2038-09-00       3\n",
      "Name: orderDate, dtype: int64\n",
      "\n",
      "Distribución de la columna 'shippedDate':\n",
      "0000-00-00    2839\n",
      "2038-00-06      17\n",
      "2038-09-07       3\n",
      "Name: shippedDate, dtype: int64\n",
      "\n",
      "Distribución de la columna 'requiredDate':\n",
      "0000-00-00    2981\n",
      "2038-00-08      17\n",
      "2038-09-07       3\n",
      "Name: requiredDate, dtype: int64\n",
      "\n",
      "Distribución de la columna 'productCode':\n",
      "S18_3232    53\n",
      "S18_2238    29\n",
      "S18_3136    29\n",
      "S24_2000    28\n",
      "S24_4278    28\n",
      "            ..\n",
      "S24_3432    25\n",
      "S24_1628    25\n",
      "S24_3969    25\n",
      "S18_4933    24\n",
      "S24_2887    24\n",
      "Name: productCode, Length: 109, dtype: int64\n",
      "\n",
      "Distribución de la columna 'status':\n",
      "Shipped       2775\n",
      "Cancelled       79\n",
      "Resolved        47\n",
      "On Hold         44\n",
      "In Process      42\n",
      "Disputed        14\n",
      "Name: status, dtype: int64\n",
      "\n",
      "Distribución de la columna 'comments':\n",
      "They want to reevaluate their terms agreement with Finance.                                                                                                                                      70\n",
      "Customer requested that DHL is used for this shipping                                                                                                                                            64\n",
      "Customer requested that FedEx Ground is used for this shipping                                                                                                                                   43\n",
      "Custom shipping instructions sent to warehouse                                                                                                                                                   38\n",
      "Customer credit limit exceeded. Will ship when a payment is received.                                                                                                                            38\n",
      "Customer very concerned about the exact color of the models. There is high risk that he may dispute the order because there is a slight color mismatch                                           35\n",
      "Check on availability.                                                                                                                                                                           34\n",
      "Can we deliver the new Ford Mustang models by end-of-quarter?                                                                                                                                    33\n",
      "Customer requested special shippment. The instructions were passed along to the warehouse                                                                                                        32\n",
      "Cautious optimism. We have happy customers here, if we can keep them well stocked.  I need all the information I can get on the planned shippments of Porches                                    28\n",
      "Can we renegotiate this one?                                                                                                                                                                     27\n",
      "Customer requested that ad materials (such as posters, pamphlets) be included in the shippment                                                                                                   22\n",
      "Difficult to negotiate with customer. We need more marketing materials                                                                                                                           22\n",
      "Customer has worked with some of our vendors in the past and is aware of their MSRP                                                                                                              21\n",
      "We must be cautions with this customer. Their VP of Sales resigned. Company may be heading down.                                                                                                 20\n",
      "Disputed then Resolved on 3/15/2005. Customer doesn't like the craftsmaship of the models.                                                                                                       18\n",
      "This order was on hold because customers's credit limit had been exceeded. Order will ship when payment is received                                                                              18\n",
      "We need to keep in close contact with their Marketing VP. He is the decision maker for all their purchases.                                                                                      17\n",
      "This customer found a better offer from one of our competitors. Will call back to renegotiate.                                                                                                   16\n",
      "Customer called to cancel. The warehouse was notified in time and the order didn't ship. They have a new VP of Sales and are shifting their sales model. Our VP of Sales should contact them.    16\n",
      "Customer inquired about remote controlled models and gold models.                                                                                                                                16\n",
      "Order was mistakenly placed. The warehouse noticed the lack of documentation.                                                                                                                    14\n",
      "Customer disputed the order and we agreed to cancel it. We must be more cautions with this customer going forward, since they are very hard to please. We must cover the shipping fees.          14\n",
      "This order was disputed and resolved on 2/1/2005. Customer claimed that container with shipment was damaged. FedEx's investigation proved this wrong.                                            13\n",
      "Customer is interested in buying more Ferrari models                                                                                                                                             12\n",
      "Customer heard complaints from their customers and called to cancel this order. Will notify the Sales Manager.                                                                                   10\n",
      "Customer cancelled due to urgent budgeting issues. Must be cautious when dealing with them in the future. Since order shipped already we must discuss who would cover the shipping charges.       9\n",
      "They want to reevaluate their terms agreement with the VP of Sales                                                                                                                                9\n",
      "Order was disputed and resolved on 12/1/04. The Sales Manager was involved. Customer claims the scales of the models don't match what was discussed.                                              8\n",
      "This order was disputed, but resolved on 11/1/2003; Customer doesn't like the colors and precision of the models.                                                                                 8\n",
      "Customer will send a truck to our local warehouse on 7/1/2004                                                                                                                                     7\n",
      "The outstaniding balance for this customer exceeds their credit limit. Order will be shipped when a payment is received.                                                                          6\n",
      "Customer doesn't like the colors and precision of the models.                                                                                                                                     6\n",
      " I need all the information I can get on our competitors.                                                                                                                                         5\n",
      "Customer claims the scales of the models don't match what was discussed. I keep all the paperwork though to prove otherwise                                                                       5\n",
      "Customer claims container with shipment was damaged during shipping and some items were missing. I am talking to FedEx about this.                                                                3\n",
      "Custom shipping instructions were sent to warehouse                                                                                                                                               2\n",
      "Name: comments, dtype: int64\n",
      "\n",
      "Distribución de la columna 'origin':\n",
      "spain    2864\n",
      "japan     137\n",
      "Name: origin, dtype: int64\n"
     ]
    }
   ],
   "source": [
    "# Mostrar la distribución de valores en cada columna categórica\n",
    "print(\"\\nDistribución de valores en columnas categóricas:\")\n",
    "for column in sales_df.select_dtypes(include=['object']).columns:\n",
    "    print(f\"\\nDistribución de la columna '{column}':\")\n",
    "    print(sales_df[column].value_counts())\n",
    "    "
   ]
  }
 ],
 "metadata": {
  "kernelspec": {
   "display_name": "Python 3.8 - AzureML",
   "language": "python",
   "name": "python38-azureml"
  },
  "language_info": {
   "codemirror_mode": {
    "name": "ipython",
    "version": 3
   },
   "file_extension": ".py",
   "mimetype": "text/x-python",
   "name": "python",
   "nbconvert_exporter": "python",
   "pygments_lexer": "ipython3",
   "version": "3.10.11"
  }
 },
 "nbformat": 4,
 "nbformat_minor": 2
}
